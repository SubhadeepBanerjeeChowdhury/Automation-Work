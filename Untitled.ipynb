{
 "cells": [
  {
   "cell_type": "code",
   "execution_count": 1,
   "id": "2d627725",
   "metadata": {},
   "outputs": [],
   "source": []
  },
  {
   "cell_type": "code",
   "execution_count": 8,
   "id": "824208e2",
   "metadata": {},
   "outputs": [
    {
     "ename": "SyntaxError",
     "evalue": "unexpected EOF while parsing (Temp/ipykernel_23308/3780857744.py, line 16)",
     "output_type": "error",
     "traceback": [
      "\u001b[1;36m  File \u001b[1;32m\"C:\\Users\\SUBHAD~1\\AppData\\Local\\Temp/ipykernel_23308/3780857744.py\"\u001b[1;36m, line \u001b[1;32m16\u001b[0m\n\u001b[1;33m    sheet_names.append(xls.sheet_names)\u001b[0m\n\u001b[1;37m                                       ^\u001b[0m\n\u001b[1;31mSyntaxError\u001b[0m\u001b[1;31m:\u001b[0m unexpected EOF while parsing\n"
     ]
    }
   ],
   "source": [
    "bob='UHC FREEDOM'\n",
    "cwd = os.getcwd()\n",
    "bob_folder = os.path.join(cwd,'Output', bob)\n",
    "\n",
    "# List to store the sheet names\n",
    "sheet_names = []\n",
    "\n",
    "# Iterate over all files in the BOB folder\n",
    "for file_name in os.listdir(bob_folder):\n",
    "    if file_name.endswith(\".xlsx\") or file_name.endswith(\".xls\"):\n",
    "        file_path = os.path.join(bob_folder, file_name)\n",
    "        \n",
    "        # Read the Excel file and get sheet names\n",
    "        try:\n",
    "            xls = pd.ExcelFile(file_path)\n",
    "            sheet_names.append(xls.sheet_names)"
   ]
  },
  {
   "cell_type": "code",
   "execution_count": 3,
   "id": "dcc1910f",
   "metadata": {},
   "outputs": [
    {
     "data": {
      "text/plain": [
       "{'MNS0400016': 'Audited',\n",
       " 'MNS0400013': 'Audited',\n",
       " 'MNS0400009': 'Not Audited',\n",
       " 'MNS0400010': 'Not Audited',\n",
       " 'MNS0400000': 'Not Audited'}"
      ]
     },
     "execution_count": 3,
     "metadata": {},
     "output_type": "execute_result"
    }
   ],
   "source": [
    "#Predefined inputs\n",
    "\n",
    "bob = 'UHC FREEDOM'\n",
    "date = '07/01/2023'\n",
    "#List of MNS plans that are extracted\n",
    "mnstuple=('MNS0400016','MNS0400016','MNS0400013','MNS0400013','MNS0400009','MNS0400010','MNS0400000')\n",
    "\n",
    "folder_date = date.replace('/', '_')\n",
    "cwd = os.getcwd()\n",
    "bob_folder = os.path.join(cwd, \"Output\", folder_date, bob)\n",
    "\n",
    "# List to store the sheet names\n",
    "output_sheets = []\n",
    "\n",
    "# Check if the date folder exists\n",
    "if os.path.exists(os.path.join(cwd, \"Output\", folder_date)):\n",
    "    # Check if the BoB folder exists inside the date folder\n",
    "    if os.path.exists(bob_folder):\n",
    "        # Iterate over all files in the BoB folder\n",
    "        for file_name in os.listdir(bob_folder):\n",
    "            if file_name.endswith(\".xlsx\") or file_name.endswith(\".xls\"):\n",
    "                file_path = os.path.join(bob_folder, file_name)\n",
    "                xls = pd.ExcelFile(file_path)\n",
    "                for i in xls.sheet_names:\n",
    "                    output_sheets.append(i)\n",
    "audit_dict = {mns_id: 'Audited' if any(mns_id in sheet for sheet in output_sheets) else 'Not Audited' for mns_id in mnstuple}\n",
    "audit_dict"
   ]
  },
  {
   "cell_type": "code",
   "execution_count": 44,
   "id": "adf20a45",
   "metadata": {},
   "outputs": [
    {
     "data": {
      "text/plain": [
       "{'MNS0400016': 'Audited',\n",
       " 'MNS0400017': 'Audited',\n",
       " 'MNS0400013': 'Audited',\n",
       " 'MNS0400014': 'Audited',\n",
       " 'MNS0400009': 'Not Audited',\n",
       " 'MNS0400010': 'Not Audited'}"
      ]
     },
     "execution_count": 44,
     "metadata": {},
     "output_type": "execute_result"
    }
   ],
   "source": []
  },
  {
   "cell_type": "code",
   "execution_count": 42,
   "id": "e81239f4",
   "metadata": {},
   "outputs": [
    {
     "data": {
      "text/plain": [
       "{'MNS0400016': 'Audited',\n",
       " 'MNS0400017': 'Audited',\n",
       " 'MNS0400013': 'Audited',\n",
       " 'MNS0400014': 'Audited',\n",
       " 'MNS0400009': 'Not Audited',\n",
       " 'MNS0400010': 'Not Audited'}"
      ]
     },
     "execution_count": 42,
     "metadata": {},
     "output_type": "execute_result"
    }
   ],
   "source": []
  },
  {
   "cell_type": "code",
   "execution_count": 7,
   "id": "51a0c5b0",
   "metadata": {},
   "outputs": [
    {
     "data": {
      "text/html": [
       "<div>\n",
       "<style scoped>\n",
       "    .dataframe tbody tr th:only-of-type {\n",
       "        vertical-align: middle;\n",
       "    }\n",
       "\n",
       "    .dataframe tbody tr th {\n",
       "        vertical-align: top;\n",
       "    }\n",
       "\n",
       "    .dataframe thead th {\n",
       "        text-align: right;\n",
       "    }\n",
       "</style>\n",
       "<table border=\"1\" class=\"dataframe\">\n",
       "  <thead>\n",
       "    <tr style=\"text-align: right;\">\n",
       "      <th></th>\n",
       "      <th>MNS ID</th>\n",
       "      <th>GROUP NAME</th>\n",
       "      <th>Option</th>\n",
       "    </tr>\n",
       "  </thead>\n",
       "  <tbody>\n",
       "    <tr>\n",
       "      <th>0</th>\n",
       "      <td>MNS0400013</td>\n",
       "      <td>RAFTERONE</td>\n",
       "      <td>1</td>\n",
       "    </tr>\n",
       "    <tr>\n",
       "      <th>1</th>\n",
       "      <td>MNS0400013</td>\n",
       "      <td>RAFTERONE</td>\n",
       "      <td>2</td>\n",
       "    </tr>\n",
       "    <tr>\n",
       "      <th>2</th>\n",
       "      <td>MNS0400016</td>\n",
       "      <td>HOME HOSPICE</td>\n",
       "      <td>1</td>\n",
       "    </tr>\n",
       "    <tr>\n",
       "      <th>3</th>\n",
       "      <td>MNS0400016</td>\n",
       "      <td>HOME HOSPICE</td>\n",
       "      <td>2</td>\n",
       "    </tr>\n",
       "    <tr>\n",
       "      <th>4</th>\n",
       "      <td>MNS0400009</td>\n",
       "      <td>HOME HOSPICE</td>\n",
       "      <td>1</td>\n",
       "    </tr>\n",
       "    <tr>\n",
       "      <th>5</th>\n",
       "      <td>MNS0400010</td>\n",
       "      <td>AIR GENERAL</td>\n",
       "      <td>1</td>\n",
       "    </tr>\n",
       "    <tr>\n",
       "      <th>6</th>\n",
       "      <td>MNS0400000</td>\n",
       "      <td>AIR GENERAL</td>\n",
       "      <td>1</td>\n",
       "    </tr>\n",
       "  </tbody>\n",
       "</table>\n",
       "</div>"
      ],
      "text/plain": [
       "       MNS ID    GROUP NAME Option\n",
       "0  MNS0400013     RAFTERONE      1\n",
       "1  MNS0400013     RAFTERONE      2\n",
       "2  MNS0400016  HOME HOSPICE      1\n",
       "3  MNS0400016  HOME HOSPICE      2\n",
       "4  MNS0400009  HOME HOSPICE      1\n",
       "5  MNS0400010   AIR GENERAL      1\n",
       "6  MNS0400000   AIR GENERAL      1"
      ]
     },
     "execution_count": 7,
     "metadata": {},
     "output_type": "execute_result"
    }
   ],
   "source": [
    "import os\n",
    "import pandas as pd\n",
    "data={'MNS ID':['MNS0400013','MNS0400013','MNS0400016','MNS0400016','MNS0400009','MNS0400010','MNS0400000'],'GROUP NAME':['RAFTERONE','RAFTERONE','HOME HOSPICE','HOME HOSPICE','HOME HOSPICE','AIR GENERAL','AIR GENERAL'],'Option':['1','2','1','2','1','1','1']}\n",
    "tufts_df=pd.DataFrame(data)\n",
    "tufts_df"
   ]
  },
  {
   "cell_type": "code",
   "execution_count": null,
   "id": "b6093f3a",
   "metadata": {},
   "outputs": [
    {
     "name": "stdout",
     "output_type": "stream",
     "text": [
      "You have already audited 5 out of 7 plans.\n",
      "Do you want to restart the audit or skip the audited plans?\n"
     ]
    }
   ],
   "source": [
    "import os\n",
    "import pandas as pd\n",
    "data={'MNS ID':['MNS0400013','MNS0400013','MNS0400016','MNS0400016','MNS0400009','MNS0400010','MNS0400000'],'GROUP NAME':['RAFTERONE','RAFTERONE','HOME HOSPICE','HOME HOSPICE','HOME HOSPICE','AIR GENERAL','AIR GENERAL'],'Option':['1','2','1','2','1','1','1']}\n",
    "tufts_df=pd.DataFrame(data)\n",
    "#Predefined inputs\n",
    "\n",
    "bob = 'UHC FREEDOM'\n",
    "date = '07/01/2023'\n",
    "\n",
    "\n",
    "def get_audit_status(row):\n",
    "    folder_date = date.replace('/', '_')\n",
    "    cwd = os.getcwd()\n",
    "    bob_folder = os.path.join(cwd, \"Output\", folder_date, bob)\n",
    "\n",
    "    # List to store the sheet names\n",
    "    output_sheets = []\n",
    "\n",
    "    # Check if the date folder exists\n",
    "    if os.path.exists(os.path.join(cwd, \"Output\", folder_date)):\n",
    "        # Check if the BoB folder exists inside the date folder\n",
    "        if os.path.exists(bob_folder):\n",
    "            # Iterate over all files in the BoB folder\n",
    "            for file_name in os.listdir(bob_folder):\n",
    "                if file_name.endswith(\".xlsx\") or file_name.endswith(\".xls\"):\n",
    "                    file_path = os.path.join(bob_folder, file_name)\n",
    "                    xls = pd.ExcelFile(file_path)\n",
    "                    for i in xls.sheet_names:\n",
    "                        output_sheets.append(i)\n",
    "    if row['Option']:\n",
    "        if str(row['MNS ID']+'_'+row['Option']) in str(output_sheets):\n",
    "            return 'Audited'\n",
    "        else:\n",
    "            return 'Not Audited'\n",
    "    else:\n",
    "        if row['MNS ID'] in str(output_sheets):\n",
    "            return 'Audited'\n",
    "        else:\n",
    "            return 'Not Audited'\n",
    "    \n",
    "tufts_df['Audit Status']=tufts_df.apply(get_audit_status,axis=1)\n",
    "if 'Audited' in str(tufts_df['Audit Status'].to_list()):\n",
    "    message_2='You have already audited '+ str(len(tufts_df[tufts_df['Audit Status']=='Audited']['MNS ID'].to_list()))+' out of '+str(len(tufts_df['MNS ID'].to_list()))+ ' plans.\\nDo you want to restart the audit or skip the audited plans?'\n",
    "    print(message_2)\n",
    "    user_input=str(input('Restart/Skip?:'))\n",
    "    if user_input=='Skip':\n",
    "        filtered_df=tufts_df[tufts_df['Audit Status']=='Not Audited']\n",
    "        print(filtered_df)\n",
    "    else:\n",
    "        print(tufts_df)"
   ]
  },
  {
   "cell_type": "code",
   "execution_count": 15,
   "id": "0d476836",
   "metadata": {},
   "outputs": [
    {
     "data": {
      "text/html": [
       "<div>\n",
       "<style scoped>\n",
       "    .dataframe tbody tr th:only-of-type {\n",
       "        vertical-align: middle;\n",
       "    }\n",
       "\n",
       "    .dataframe tbody tr th {\n",
       "        vertical-align: top;\n",
       "    }\n",
       "\n",
       "    .dataframe thead th {\n",
       "        text-align: right;\n",
       "    }\n",
       "</style>\n",
       "<table border=\"1\" class=\"dataframe\">\n",
       "  <thead>\n",
       "    <tr style=\"text-align: right;\">\n",
       "      <th></th>\n",
       "      <th>MNS ID</th>\n",
       "      <th>GROUP NAME</th>\n",
       "      <th>Option</th>\n",
       "      <th>Audit Status</th>\n",
       "    </tr>\n",
       "  </thead>\n",
       "  <tbody>\n",
       "    <tr>\n",
       "      <th>5</th>\n",
       "      <td>MNS0400010</td>\n",
       "      <td>AIR GENERAL</td>\n",
       "      <td>1</td>\n",
       "      <td>Not Audited</td>\n",
       "    </tr>\n",
       "    <tr>\n",
       "      <th>6</th>\n",
       "      <td>MNS0400000</td>\n",
       "      <td>AIR GENERAL</td>\n",
       "      <td>1</td>\n",
       "      <td>Not Audited</td>\n",
       "    </tr>\n",
       "  </tbody>\n",
       "</table>\n",
       "</div>"
      ],
      "text/plain": [
       "       MNS ID   GROUP NAME Option Audit Status\n",
       "5  MNS0400010  AIR GENERAL      1  Not Audited\n",
       "6  MNS0400000  AIR GENERAL      1  Not Audited"
      ]
     },
     "execution_count": 15,
     "metadata": {},
     "output_type": "execute_result"
    }
   ],
   "source": []
  },
  {
   "cell_type": "code",
   "execution_count": null,
   "id": "1b311f28",
   "metadata": {},
   "outputs": [],
   "source": [
    "message_2='You have already audited ', 2,' out of ',7, ' plans.\\nDo you want to restart the audit or skip to the plans that are not audited?'\n",
    "print(message_2)"
   ]
  },
  {
   "cell_type": "code",
   "execution_count": 1,
   "id": "8744fef3",
   "metadata": {},
   "outputs": [
    {
     "name": "stdout",
     "output_type": "stream",
     "text": [
      "Sheet names found in the BoB folder and its subdirectories:\n",
      "HOME HOSPICE_MNS0400016_1\n",
      "HOME HOSPICE_MNS0400016_2\n",
      "HOME HOSPICE_MNS0400009_1\n",
      "RAFTERONE_MNS0400013_1\n",
      "RAFTERONE_MNS0400013_2\n",
      "\n",
      "Audit Dictionary:\n",
      "MNS0400016: Audited\n",
      "MNS0400017: Not Audited\n",
      "MNS0400013: Audited\n",
      "MNS0400014: Not Audited\n",
      "MNS0400009: Audited\n",
      "MNS0400010: Not Audited\n"
     ]
    }
   ],
   "source": []
  },
  {
   "cell_type": "code",
   "execution_count": null,
   "id": "9f88fb08",
   "metadata": {},
   "outputs": [
    {
     "name": "stdout",
     "output_type": "stream",
     "text": [
      "You have already audited 5 out of 8 plans.\n",
      "Do you want to restart the audit or skip the audited plans?\n"
     ]
    }
   ],
   "source": [
    "import os\n",
    "import pandas as pd\n",
    "\n",
    "data = {\n",
    "    'MNS ID': ['MNS0400013', 'MNS0400013','MNS0400014', 'MNS0400016', 'MNS0400016', 'MNS0400009', 'MNS0400010', 'MNS0400000'],\n",
    "    'GROUP NAME': ['RAFTERONE', 'RAFTERONE', 'GREATER NASHUA','HOME HOSPICE', 'HOME HOSPICE', 'HOME HOSPICE', 'AIR GENERAL', 'AIR GENERAL'],\n",
    "    'Option': ['1', '2', '1','1', '2', '1', '1', '1']\n",
    "}\n",
    "tufts_df = pd.DataFrame(data)\n",
    "\n",
    "# Predefined inputs\n",
    "bob = 'UHC FREEDOM'\n",
    "date = '07/01/2023'\n",
    "\n",
    "def get_audit_status(row):\n",
    "    folder_date = date.replace('/', '_')\n",
    "    cwd = os.getcwd()\n",
    "    bob_folder = os.path.join(cwd, \"Output\", folder_date, bob)\n",
    "    discarded_folder=os.path.join(cwd, \"Output\", \"Discarded Plans\")\n",
    "    # List to store the sheet names\n",
    "    output_sheets = []\n",
    "    discard_sheets=[]\n",
    "\n",
    "    # Check if the date folder exists\n",
    "    if os.path.exists(os.path.join(cwd, \"Output\", folder_date)):\n",
    "        # Check if the BoB folder exists inside the date folder\n",
    "        if os.path.exists(bob_folder):\n",
    "            # Recursively traverse all subdirectories and files in the BoB folder\n",
    "            for root, dirs, files in os.walk(bob_folder):\n",
    "                for file_name in files:\n",
    "                    if file_name.endswith(\".xlsx\") or file_name.endswith(\".xls\"):\n",
    "                        file_path = os.path.join(root, file_name)\n",
    "                        xls = pd.ExcelFile(file_path)\n",
    "                        for sheet_name in xls.sheet_names:\n",
    "                            output_sheets.append(sheet_name)\n",
    "\n",
    "            \n",
    "                            \n",
    "    if row['Option']:\n",
    "        if str(row['MNS ID'] + '_' + row['Option']) in str(output_sheets):\n",
    "            return 'Audited'\n",
    "        else:\n",
    "            return 'Not Audited'\n",
    "    else:\n",
    "        if row['MNS ID'] in str(output_sheets):\n",
    "            return 'Audited'\n",
    "        else:\n",
    "            return 'Not Audited'\n",
    "\n",
    "        \n",
    "        \n",
    "        \n",
    "def get_discard_status(row):\n",
    "    folder_date = date.replace('/', '_')\n",
    "    cwd = os.getcwd()\n",
    "    discarded_folder=os.path.join(cwd, \"Output\", \"Discarded Plans\")\n",
    "    discard_sheets=[]\n",
    "   \n",
    "            #check if the discard folder exists\n",
    "    if os.path.exists(discarded_folder):\n",
    "        for root, dirs, files in os.walk(discarded_folder):\n",
    "            for file_name in files:\n",
    "                if file_name.endswith(\".xlsx\") or file_name.endswith(\".xls\"):\n",
    "                    file_path = os.path.join(root, file_name)\n",
    "                    xls = pd.ExcelFile(file_path)\n",
    "                    for sheet_name in xls.sheet_names:\n",
    "                        discard_sheets.append(sheet_name)\n",
    "                        \n",
    "    if row['Option']:\n",
    "        if str(row['MNS ID'] + '_' + row['Option']) in str(discard_sheets):\n",
    "            return 'Discarded'\n",
    "        else:\n",
    "            return 'Not Discarded'\n",
    "    else:\n",
    "        if row['MNS ID'] in str(output_sheets):\n",
    "            return 'Discarded'\n",
    "        else:\n",
    "            return 'Not Discarded'\n",
    "        \n",
    "tufts_df['Audit Status'] = tufts_df.apply(get_audit_status, axis=1)\n",
    "tufts_df['Discard Status'] = tufts_df.apply(get_discard_status, axis=1)\n",
    "\n",
    "if 'Audited' in str(tufts_df['Audit Status'].to_list()):\n",
    "    message_2 = 'You have already audited ' + str(len(tufts_df[tufts_df['Audit Status'] == 'Audited']['MNS ID'].to_list())) + ' out of ' + str(len(tufts_df['MNS ID'].to_list())) + ' plans.\\nDo you want to restart the audit or skip the audited plans?'\n",
    "    print(message_2)\n",
    "    user_input = str(input('Restart/Skip?:'))\n",
    "    if user_input == 'Skip':\n",
    "        filtered_df = tufts_df[tufts_df['Audit Status'] == 'Not Audited']\n",
    "        print(filtered_df)\n",
    "    else:\n",
    "        print(tufts_df)\n"
   ]
  },
  {
   "cell_type": "code",
   "execution_count": null,
   "id": "83f46071",
   "metadata": {},
   "outputs": [],
   "source": []
  }
 ],
 "metadata": {
  "kernelspec": {
   "display_name": "Python 3 (ipykernel)",
   "language": "python",
   "name": "python3"
  },
  "language_info": {
   "codemirror_mode": {
    "name": "ipython",
    "version": 3
   },
   "file_extension": ".py",
   "mimetype": "text/x-python",
   "name": "python",
   "nbconvert_exporter": "python",
   "pygments_lexer": "ipython3",
   "version": "3.9.7"
  }
 },
 "nbformat": 4,
 "nbformat_minor": 5
}
